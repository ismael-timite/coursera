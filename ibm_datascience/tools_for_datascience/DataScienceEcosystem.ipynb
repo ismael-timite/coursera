{
 "cells": [
  {
   "cell_type": "markdown",
   "id": "5cf6e8c4",
   "metadata": {},
   "source": [
    "# Data Science Tools and Ecosystem"
   ]
  },
  {
   "cell_type": "markdown",
   "id": "b9ab2621",
   "metadata": {},
   "source": [
    "## Author\n",
    "Ismael TIMITE"
   ]
  },
  {
   "cell_type": "markdown",
   "id": "e10437a6",
   "metadata": {},
   "source": [
    "In this notebook, Data Science Tools and Ecosystem are summarized."
   ]
  },
  {
   "cell_type": "markdown",
   "id": "75c88e58",
   "metadata": {},
   "source": [
    "**Objectives:**\n",
    "- List populars Data science languages\n",
    "- List populars Data science libraries\n",
    "- List populars Data science environments"
   ]
  },
  {
   "cell_type": "markdown",
   "id": "230f70ce",
   "metadata": {
    "ExecuteTime": {
     "end_time": "2024-06-25T16:35:30.372233Z",
     "start_time": "2024-06-25T16:35:30.368124Z"
    }
   },
   "source": [
    "Some of the popular languages that Data Scientists use are:\n",
    "1. Python\n",
    "2. R\n",
    "3. Go\n",
    "4. SQL"
   ]
  },
  {
   "cell_type": "markdown",
   "id": "d23517dd",
   "metadata": {},
   "source": [
    "Some of the commonly used libraries used by Data Scientists include:\n",
    "1. Pandas\n",
    "2. Polars\n",
    "3. Numpy\n",
    "4. Sklearn\n",
    "5. Tensorflow\n",
    "6. Keras\n",
    "7. NLTK"
   ]
  },
  {
   "cell_type": "markdown",
   "id": "cf11b4e4",
   "metadata": {},
   "source": [
    "| Data Science Tools      |\n",
    "| ----------------------- |\n",
    "| Jupyter notebook        |\n",
    "| Spyder                  |\n",
    "| Knime                   |\n",
    "| Orange                  |"
   ]
  },
  {
   "cell_type": "markdown",
   "id": "dd8f646b",
   "metadata": {},
   "source": [
    "Below are a few examples of evaluating arithmetic expressions in Python"
   ]
  },
  {
   "cell_type": "code",
   "execution_count": 4,
   "id": "2150b7b3",
   "metadata": {
    "ExecuteTime": {
     "end_time": "2024-06-25T16:49:21.749481Z",
     "start_time": "2024-06-25T16:49:21.745280Z"
    }
   },
   "outputs": [
    {
     "data": {
      "text/plain": [
       "17"
      ]
     },
     "execution_count": 4,
     "metadata": {},
     "output_type": "execute_result"
    }
   ],
   "source": [
    "# This a simple arithmetic expression to mutiply then add integers\n",
    "(3*4)+5"
   ]
  },
  {
   "cell_type": "code",
   "execution_count": 5,
   "id": "5a60e6db",
   "metadata": {
    "ExecuteTime": {
     "end_time": "2024-06-25T16:50:24.272832Z",
     "start_time": "2024-06-25T16:50:24.268524Z"
    }
   },
   "outputs": [
    {
     "data": {
      "text/plain": [
       "3.3333333333333335"
      ]
     },
     "execution_count": 5,
     "metadata": {},
     "output_type": "execute_result"
    }
   ],
   "source": [
    "# This will convert 200 minutes to hours by diving by 60\n",
    "200/60"
   ]
  },
  {
   "cell_type": "code",
   "execution_count": null,
   "id": "66f3d3aa",
   "metadata": {},
   "outputs": [],
   "source": []
  }
 ],
 "metadata": {
  "kernelspec": {
   "display_name": "Python 3 (ipykernel)",
   "language": "python",
   "name": "python3"
  },
  "language_info": {
   "codemirror_mode": {
    "name": "ipython",
    "version": 3
   },
   "file_extension": ".py",
   "mimetype": "text/x-python",
   "name": "python",
   "nbconvert_exporter": "python",
   "pygments_lexer": "ipython3",
   "version": "3.7.4"
  },
  "toc": {
   "base_numbering": 1,
   "nav_menu": {},
   "number_sections": true,
   "sideBar": true,
   "skip_h1_title": false,
   "title_cell": "Table of Contents",
   "title_sidebar": "Contents",
   "toc_cell": false,
   "toc_position": {},
   "toc_section_display": true,
   "toc_window_display": false
  }
 },
 "nbformat": 4,
 "nbformat_minor": 5
}
